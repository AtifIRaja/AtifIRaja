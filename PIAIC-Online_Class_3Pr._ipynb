{
  "nbformat": 4,
  "nbformat_minor": 0,
  "metadata": {
    "colab": {
      "provenance": [],
      "gpuType": "T4",
      "authorship_tag": "ABX9TyMsqkljFz5B3QsweXgdAkIP",
      "include_colab_link": true
    },
    "kernelspec": {
      "name": "python3",
      "display_name": "Python 3"
    },
    "language_info": {
      "name": "python"
    },
    "accelerator": "GPU"
  },
  "cells": [
    {
      "cell_type": "markdown",
      "metadata": {
        "id": "view-in-github",
        "colab_type": "text"
      },
      "source": [
        "<a href=\"https://colab.research.google.com/github/AtifIRaja/AtifIRaja/blob/main/PIAIC-Online_Class_3Pr._ipynb\" target=\"_parent\"><img src=\"https://colab.research.google.com/assets/colab-badge.svg\" alt=\"Open In Colab\"/></a>"
      ]
    },
    {
      "cell_type": "code",
      "execution_count": null,
      "metadata": {
        "id": "ehn1PP25CiNT"
      },
      "outputs": [],
      "source": [
        "# Write a simple joke bot. The bot starts by asking the user what they want. However, your program will only respond to one response: Joke.\n",
        "# If the user enters Joke then we will print out a single joke. Each time the joke is always the same:\n",
        "# Here is a joke for you! Panaversity GPT - Sophia is heading out to the grocery store.\n",
        "# Joke Continue:  A programmer tells her: get a liter of milk, and if they have eggs, get 12.\n",
        "# Joke Continue: Sophia returns with 13 liters of milk. The programmer asks why and Sophia replies: 'because they had eggs'\n",
        "# If the user enters anything else we print out:\n",
        "# \"Sorry I only tell jokes\"\n",
        "# You should use the three constants:\n",
        "# PROMPT JOKE SORRY\n",
        "# which contain the strings for the prompt asked to the user, the joke to print out if the user enters \"Joke\" and the \"sorry\" message\n",
        "# cont. : if the user enters anything else.\n",
        "# Your program will need to use an if statement which checks if the user input is Joke:\n",
        "# if user_input == \"Joke\":\n",
        "# Recall that == is a comparison which tests if two values are equal to one another.\n",
        "# Here is a full run of the program (user input is in blue):\n",
        "# What do you want? Joke Here is a joke for you! Panaversity GPT - Sophia is heading out to the grocery store.\n",
        "# Cont. A programmer tells her: get a liter of milk, and if they have eggs, get 12. Sophia returns with 13 liters of milk.\n",
        "# Cont. The programmer asks why and Sophia replies: 'because they had eggs'\n",
        "\n"
      ]
    },
    {
      "cell_type": "code",
      "source": [
        "PROMPT = \"What do you want? \"\n",
        "JOKE = (\"Here is a joke for you! Panaversity GPT - Sophia is heading out to the grocery store. \"\n",
        "        \"A programmer tells her: get a liter of milk, and if they have eggs, get 12. \"\n",
        "        \"Sophia returns with 13 liters of milk. The programmer asks why and Sophia replies: 'because they had eggs'\")\n",
        "SORRY = \"Sorry I only tell jokes\"\n",
        "\n",
        "# Program logic\n",
        "user_input = input(PROMPT)\n",
        "\n",
        "if user_input == \"Joke\":\n",
        "    print(JOKE)\n",
        "else:\n",
        "    print(SORRY)"
      ],
      "metadata": {
        "colab": {
          "base_uri": "https://localhost:8080/"
        },
        "id": "srlQPxLeEQN5",
        "outputId": "91fec140-2cd2-4c8a-97a9-6322d7ab6762"
      },
      "execution_count": null,
      "outputs": [
        {
          "output_type": "stream",
          "name": "stdout",
          "text": [
            "What do you want? song\n",
            "Sorry I only tell jokes\n"
          ]
        }
      ]
    },
    {
      "cell_type": "code",
      "source": [
        "PROMPT = \"What do you want? \"\n",
        "JOKE = (\"Here is a joke for you! Panaversity GPT - Sophia is heading out to the grocery store. \"\n",
        "        \"A programmer tells her: get a liter of milk, and if they have eggs, get 12. \"\n",
        "        \"Sophia returns with 13 liters of milk. The programmer asks why and Sophia replies: 'because they had eggs'\")\n",
        "SORRY = \"Sorry I only tell jokes\"\n",
        "\n",
        "# Program logic\n",
        "user_input = input(PROMPT)\n",
        "\n",
        "if user_input == \"Joke\":\n",
        "    print(JOKE)\n",
        "else:\n",
        "    print(SORRY)"
      ],
      "metadata": {
        "colab": {
          "base_uri": "https://localhost:8080/"
        },
        "id": "etudN3cLEqLf",
        "outputId": "c073ff9b-96d5-4742-f062-8bc0434f66b2"
      },
      "execution_count": null,
      "outputs": [
        {
          "output_type": "stream",
          "name": "stdout",
          "text": [
            "What do you want? joke\n",
            "Sorry I only tell jokes\n"
          ]
        }
      ]
    },
    {
      "cell_type": "code",
      "source": [
        "PROMPT = \"What do you want? \"\n",
        "JOKE = (\"Here is a joke for you! Panaversity GPT - Sophia is heading out to the grocery store. \"\n",
        "        \"A programmer tells her: get a liter of milk, and if they have eggs, get 12. \"\n",
        "        \"Sophia returns with 13 liters of milk. The programmer asks why and Sophia replies: 'because they had eggs'\")\n",
        "SORRY = \"Sorry I only tell jokes\"\n",
        "\n",
        "# Program logic\n",
        "user_input = input(PROMPT)\n",
        "\n",
        "if user_input == \"Joke\":\n",
        "    print(JOKE)\n",
        "else:\n",
        "    print(SORRY)"
      ],
      "metadata": {
        "colab": {
          "base_uri": "https://localhost:8080/"
        },
        "id": "w1EQtPePEcm2",
        "outputId": "06fe8230-53c2-4fb8-f7ff-f80bd915632f"
      },
      "execution_count": null,
      "outputs": [
        {
          "output_type": "stream",
          "name": "stdout",
          "text": [
            "What do you want? Joke\n",
            "Here is a joke for you! Panaversity GPT - Sophia is heading out to the grocery store. A programmer tells her: get a liter of milk, and if they have eggs, get 12. Sophia returns with 13 liters of milk. The programmer asks why and Sophia replies: 'because they had eggs'\n"
          ]
        }
      ]
    },
    {
      "cell_type": "code",
      "source": [
        "PROMPT = \"What do you want? \"\n",
        "JOKE = (\"Here is a joke for you! Panaversity GPT - Sophia is heading out to the grocery store. \"\n",
        "        \"A programmer tells her: get a liter of milk, and if they have eggs, get 12. \"\n",
        "        \"Sophia returns with 13 liters of milk. The programmer asks why and Sophia replies: 'because they had eggs'\")\n",
        "SORRY = \"Sorry I only tell jokes\"\n",
        "\n",
        "# Program logic\n",
        "user_input = input(PROMPT)\n",
        "\n",
        "if user_input == \"Joke\":\n",
        "    print(JOKE)\n",
        "else:\n",
        "    print(SORRY)"
      ],
      "metadata": {
        "id": "tX5sL4OuEyoA",
        "colab": {
          "base_uri": "https://localhost:8080/"
        },
        "outputId": "a5e9e60e-29d3-48ee-bece-522c7987cf23"
      },
      "execution_count": 1,
      "outputs": [
        {
          "output_type": "stream",
          "name": "stdout",
          "text": [
            "What do you want? song\n",
            "Sorry I only tell jokes\n"
          ]
        }
      ]
    },
    {
      "cell_type": "code",
      "source": [
        "PROMPT = \"What do you want? \"\n",
        "JOKE = (\"Here is a joke for you! Panaversity GPT - Sophia is heading out to the grocery store. \"\n",
        "        \"A programmer tells her: get a liter of milk, and if they have eggs, get 12. \"\n",
        "        \"Sophia returns with 13 liters of milk. The programmer asks why and Sophia replies: 'because they had eggs'\")\n",
        "SORRY = \"Sorry I only tell jokes\"\n",
        "\n",
        "# Program logic\n",
        "user_input = input(PROMPT)\n",
        "\n",
        "if user_input == \"Joke\":\n",
        "    print(JOKE)\n",
        "else:\n",
        "    print(SORRY)"
      ],
      "metadata": {
        "colab": {
          "base_uri": "https://localhost:8080/"
        },
        "id": "jj5bTo3pGZwo",
        "outputId": "498ead2c-1058-4c41-fb49-79c01a2bb9f9"
      },
      "execution_count": 2,
      "outputs": [
        {
          "output_type": "stream",
          "name": "stdout",
          "text": [
            "What do you want? joke\n",
            "Sorry I only tell jokes\n"
          ]
        }
      ]
    },
    {
      "cell_type": "code",
      "source": [
        "PROMPT = \"What do you want? \"\n",
        "JOKE = (\"Here is a joke for you! Panaversity GPT - Sophia is heading out to the grocery store. \"\n",
        "        \"A programmer tells her: get a liter of milk, and if they have eggs, get 12. \"\n",
        "        \"Sophia returns with 13 liters of milk. The programmer asks why and Sophia replies: 'because they had eggs'\")\n",
        "SORRY = \"Sorry I only tell jokes\"\n",
        "\n",
        "# Program logic\n",
        "user_input = input(PROMPT)\n",
        "\n",
        "if user_input == \"Joke\":\n",
        "    print(JOKE)\n",
        "else:\n",
        "    print(SORRY)"
      ],
      "metadata": {
        "colab": {
          "base_uri": "https://localhost:8080/"
        },
        "id": "p-zBP47PGwRV",
        "outputId": "3ac5c02c-dcba-4d6d-e856-b54e627766f3"
      },
      "execution_count": 3,
      "outputs": [
        {
          "output_type": "stream",
          "name": "stdout",
          "text": [
            "What do you want? Joke\n",
            "Here is a joke for you! Panaversity GPT - Sophia is heading out to the grocery store. A programmer tells her: get a liter of milk, and if they have eggs, get 12. Sophia returns with 13 liters of milk. The programmer asks why and Sophia replies: 'because they had eggs'\n"
          ]
        }
      ]
    },
    {
      "cell_type": "code",
      "source": [],
      "metadata": {
        "id": "XEOEVmfoG2rs"
      },
      "execution_count": null,
      "outputs": []
    }
  ]
}