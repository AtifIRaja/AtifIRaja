{
  "nbformat": 4,
  "nbformat_minor": 0,
  "metadata": {
    "colab": {
      "provenance": [],
      "gpuType": "T4",
      "authorship_tag": "ABX9TyNIbs68DBzd6HewqWIQQtQZ",
      "include_colab_link": true
    },
    "kernelspec": {
      "name": "python3",
      "display_name": "Python 3"
    },
    "language_info": {
      "name": "python"
    },
    "accelerator": "GPU"
  },
  "cells": [
    {
      "cell_type": "markdown",
      "metadata": {
        "id": "view-in-github",
        "colab_type": "text"
      },
      "source": [
        "<a href=\"https://colab.research.google.com/github/AtifIRaja/AtifIRaja/blob/main/Online_Class_Project_1_Basic_JokeBot_F.ipynb\" target=\"_parent\"><img src=\"https://colab.research.google.com/assets/colab-badge.svg\" alt=\"Open In Colab\"/></a>"
      ]
    },
    {
      "cell_type": "code",
      "execution_count": null,
      "metadata": {
        "id": "ehn1PP25CiNT"
      },
      "outputs": [],
      "source": [
        "# Write a simple joke bot. The bot starts by asking the user what they want. However, your program will only respond to one response: Joke.\n",
        "# If the user enters Joke then we will print out a single joke. Each time the joke is always the same:\n",
        "# Here is a joke for you! Panaversity GPT - Sophia is heading out to the grocery store.\n",
        "# Joke Continue:  A programmer tells her: get a liter of milk, and if they have eggs, get 12.\n",
        "# Joke Continue: Sophia returns with 13 liters of milk. The programmer asks why and Sophia replies: 'because they had eggs'\n",
        "# If the user enters anything else we print out:\n",
        "# \"Sorry I only tell jokes\"\n",
        "# You should use the three constants:\n",
        "# PROMPT JOKE SORRY\n",
        "# which contain the strings for the prompt asked to the user, the joke to print out if the user enters \"Joke\" and the \"sorry\" message\n",
        "# cont. : if the user enters anything else.\n",
        "# Your program will need to use an if statement which checks if the user input is Joke:\n",
        "# if user_input == \"Joke\":\n",
        "# Recall that == is a comparison which tests if two values are equal to one another.\n",
        "# Here is a full run of the program (user input is in blue):\n",
        "# What do you want? Joke Here is a joke for you! Panaversity GPT - Sophia is heading out to the grocery store.\n",
        "# Cont. A programmer tells her: get a liter of milk, and if they have eggs, get 12. Sophia returns with 13 liters of milk.\n",
        "# Cont. The programmer asks why and Sophia replies: 'because they had eggs'\n",
        "\n"
      ]
    },
    {
      "cell_type": "code",
      "source": [
        "PROMPT = \"What do you want? \"\n",
        "JOKE = (\"Here is a joke for you! Panaversity GPT - Sophia is heading out to the grocery store. \"\n",
        "        \"A programmer tells her: get a liter of milk, and if they have eggs, get 12. \"\n",
        "        \"Sophia returns with 13 liters of milk. The programmer asks why and Sophia replies: 'because they had eggs'\")\n",
        "SORRY = \"Sorry I only tell jokes\"\n",
        "\n",
        "# Program logic\n",
        "user_input = input(PROMPT)\n",
        "\n",
        "if user_input == \"Joke\":\n",
        "    print(JOKE)\n",
        "else:\n",
        "    print(SORRY)"
      ],
      "metadata": {
        "colab": {
          "base_uri": "https://localhost:8080/"
        },
        "id": "srlQPxLeEQN5",
        "outputId": "91fec140-2cd2-4c8a-97a9-6322d7ab6762"
      },
      "execution_count": 2,
      "outputs": [
        {
          "output_type": "stream",
          "name": "stdout",
          "text": [
            "What do you want? song\n",
            "Sorry I only tell jokes\n"
          ]
        }
      ]
    },
    {
      "cell_type": "code",
      "source": [
        "PROMPT = \"What do you want? \"\n",
        "JOKE = (\"Here is a joke for you! Panaversity GPT - Sophia is heading out to the grocery store. \"\n",
        "        \"A programmer tells her: get a liter of milk, and if they have eggs, get 12. \"\n",
        "        \"Sophia returns with 13 liters of milk. The programmer asks why and Sophia replies: 'because they had eggs'\")\n",
        "SORRY = \"Sorry I only tell jokes\"\n",
        "\n",
        "# Program logic\n",
        "user_input = input(PROMPT)\n",
        "\n",
        "if user_input == \"Joke\":\n",
        "    print(JOKE)\n",
        "else:\n",
        "    print(SORRY)"
      ],
      "metadata": {
        "colab": {
          "base_uri": "https://localhost:8080/"
        },
        "id": "etudN3cLEqLf",
        "outputId": "c073ff9b-96d5-4742-f062-8bc0434f66b2"
      },
      "execution_count": 3,
      "outputs": [
        {
          "output_type": "stream",
          "name": "stdout",
          "text": [
            "What do you want? joke\n",
            "Sorry I only tell jokes\n"
          ]
        }
      ]
    },
    {
      "cell_type": "code",
      "source": [
        "PROMPT = \"What do you want? \"\n",
        "JOKE = (\"Here is a joke for you! Panaversity GPT - Sophia is heading out to the grocery store. \"\n",
        "        \"A programmer tells her: get a liter of milk, and if they have eggs, get 12. \"\n",
        "        \"Sophia returns with 13 liters of milk. The programmer asks why and Sophia replies: 'because they had eggs'\")\n",
        "SORRY = \"Sorry I only tell jokes\"\n",
        "\n",
        "# Program logic\n",
        "user_input = input(PROMPT)\n",
        "\n",
        "if user_input == \"Joke\":\n",
        "    print(JOKE)\n",
        "else:\n",
        "    print(SORRY)"
      ],
      "metadata": {
        "colab": {
          "base_uri": "https://localhost:8080/"
        },
        "id": "w1EQtPePEcm2",
        "outputId": "06fe8230-53c2-4fb8-f7ff-f80bd915632f"
      },
      "execution_count": 4,
      "outputs": [
        {
          "output_type": "stream",
          "name": "stdout",
          "text": [
            "What do you want? Joke\n",
            "Here is a joke for you! Panaversity GPT - Sophia is heading out to the grocery store. A programmer tells her: get a liter of milk, and if they have eggs, get 12. Sophia returns with 13 liters of milk. The programmer asks why and Sophia replies: 'because they had eggs'\n"
          ]
        }
      ]
    },
    {
      "cell_type": "code",
      "source": [],
      "metadata": {
        "id": "tX5sL4OuEyoA"
      },
      "execution_count": null,
      "outputs": []
    }
  ]
}